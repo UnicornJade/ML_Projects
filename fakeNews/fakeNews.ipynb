{
 "cells": [
  {
   "cell_type": "code",
   "execution_count": 1,
   "id": "initial_id",
   "metadata": {
    "collapsed": true,
    "ExecuteTime": {
     "end_time": "2024-03-16T10:42:00.049832Z",
     "start_time": "2024-03-16T10:41:59.330622Z"
    }
   },
   "outputs": [],
   "source": [
    "import numpy as np\n",
    "import pandas as pd\n",
    "import itertools\n",
    "from sklearn.model_selection import train_test_split\n",
    "from sklearn.feature_extraction.text import TfidfVectorizer\n",
    "from sklearn.linear_model import PassiveAggressiveClassifier\n",
    "from sklearn.metrics import accuracy_score, confusion_matrix"
   ]
  },
  {
   "cell_type": "code",
   "outputs": [],
   "source": [
    "#Read the data\n",
    "df=pd.read_csv('news.csv')"
   ],
   "metadata": {
    "collapsed": false,
    "ExecuteTime": {
     "end_time": "2024-03-16T10:42:18.221150Z",
     "start_time": "2024-03-16T10:42:18.021144Z"
    }
   },
   "id": "1a8e6c3936fbbda",
   "execution_count": 2
  },
  {
   "cell_type": "code",
   "outputs": [
    {
     "data": {
      "text/plain": "      Unnamed: 0                                              title  \\\n0           8476                       You Can Smell Hillary’s Fear   \n1          10294  Watch The Exact Moment Paul Ryan Committed Pol...   \n2           3608        Kerry to go to Paris in gesture of sympathy   \n3          10142  Bernie supporters on Twitter erupt in anger ag...   \n4            875   The Battle of New York: Why This Primary Matters   \n...          ...                                                ...   \n6330        4490  State Department says it can't find emails fro...   \n6331        8062  The ‘P’ in PBS Should Stand for ‘Plutocratic’ ...   \n6332        8622  Anti-Trump Protesters Are Tools of the Oligarc...   \n6333        4021  In Ethiopia, Obama seeks progress on peace, se...   \n6334        4330  Jeb Bush Is Suddenly Attacking Trump. Here's W...   \n\n                                                   text label  \n0     Daniel Greenfield, a Shillman Journalism Fello...  FAKE  \n1     Google Pinterest Digg Linkedin Reddit Stumbleu...  FAKE  \n2     U.S. Secretary of State John F. Kerry said Mon...  REAL  \n3     — Kaydee King (@KaydeeKing) November 9, 2016 T...  FAKE  \n4     It's primary day in New York and front-runners...  REAL  \n...                                                 ...   ...  \n6330  The State Department told the Republican Natio...  REAL  \n6331  The ‘P’ in PBS Should Stand for ‘Plutocratic’ ...  FAKE  \n6332   Anti-Trump Protesters Are Tools of the Oligar...  FAKE  \n6333  ADDIS ABABA, Ethiopia —President Obama convene...  REAL  \n6334  Jeb Bush Is Suddenly Attacking Trump. Here's W...  REAL  \n\n[6335 rows x 4 columns]",
      "text/html": "<div>\n<style scoped>\n    .dataframe tbody tr th:only-of-type {\n        vertical-align: middle;\n    }\n\n    .dataframe tbody tr th {\n        vertical-align: top;\n    }\n\n    .dataframe thead th {\n        text-align: right;\n    }\n</style>\n<table border=\"1\" class=\"dataframe\">\n  <thead>\n    <tr style=\"text-align: right;\">\n      <th></th>\n      <th>Unnamed: 0</th>\n      <th>title</th>\n      <th>text</th>\n      <th>label</th>\n    </tr>\n  </thead>\n  <tbody>\n    <tr>\n      <th>0</th>\n      <td>8476</td>\n      <td>You Can Smell Hillary’s Fear</td>\n      <td>Daniel Greenfield, a Shillman Journalism Fello...</td>\n      <td>FAKE</td>\n    </tr>\n    <tr>\n      <th>1</th>\n      <td>10294</td>\n      <td>Watch The Exact Moment Paul Ryan Committed Pol...</td>\n      <td>Google Pinterest Digg Linkedin Reddit Stumbleu...</td>\n      <td>FAKE</td>\n    </tr>\n    <tr>\n      <th>2</th>\n      <td>3608</td>\n      <td>Kerry to go to Paris in gesture of sympathy</td>\n      <td>U.S. Secretary of State John F. Kerry said Mon...</td>\n      <td>REAL</td>\n    </tr>\n    <tr>\n      <th>3</th>\n      <td>10142</td>\n      <td>Bernie supporters on Twitter erupt in anger ag...</td>\n      <td>— Kaydee King (@KaydeeKing) November 9, 2016 T...</td>\n      <td>FAKE</td>\n    </tr>\n    <tr>\n      <th>4</th>\n      <td>875</td>\n      <td>The Battle of New York: Why This Primary Matters</td>\n      <td>It's primary day in New York and front-runners...</td>\n      <td>REAL</td>\n    </tr>\n    <tr>\n      <th>...</th>\n      <td>...</td>\n      <td>...</td>\n      <td>...</td>\n      <td>...</td>\n    </tr>\n    <tr>\n      <th>6330</th>\n      <td>4490</td>\n      <td>State Department says it can't find emails fro...</td>\n      <td>The State Department told the Republican Natio...</td>\n      <td>REAL</td>\n    </tr>\n    <tr>\n      <th>6331</th>\n      <td>8062</td>\n      <td>The ‘P’ in PBS Should Stand for ‘Plutocratic’ ...</td>\n      <td>The ‘P’ in PBS Should Stand for ‘Plutocratic’ ...</td>\n      <td>FAKE</td>\n    </tr>\n    <tr>\n      <th>6332</th>\n      <td>8622</td>\n      <td>Anti-Trump Protesters Are Tools of the Oligarc...</td>\n      <td>Anti-Trump Protesters Are Tools of the Oligar...</td>\n      <td>FAKE</td>\n    </tr>\n    <tr>\n      <th>6333</th>\n      <td>4021</td>\n      <td>In Ethiopia, Obama seeks progress on peace, se...</td>\n      <td>ADDIS ABABA, Ethiopia —President Obama convene...</td>\n      <td>REAL</td>\n    </tr>\n    <tr>\n      <th>6334</th>\n      <td>4330</td>\n      <td>Jeb Bush Is Suddenly Attacking Trump. Here's W...</td>\n      <td>Jeb Bush Is Suddenly Attacking Trump. Here's W...</td>\n      <td>REAL</td>\n    </tr>\n  </tbody>\n</table>\n<p>6335 rows × 4 columns</p>\n</div>"
     },
     "execution_count": 3,
     "metadata": {},
     "output_type": "execute_result"
    }
   ],
   "source": [
    "df"
   ],
   "metadata": {
    "collapsed": false,
    "ExecuteTime": {
     "end_time": "2024-03-16T10:42:21.125347Z",
     "start_time": "2024-03-16T10:42:21.108346Z"
    }
   },
   "id": "254a9a4272393c3",
   "execution_count": 3
  },
  {
   "cell_type": "code",
   "outputs": [],
   "source": [
    "# 拆分训练集和测试集\n",
    "X_train,X_test,y_train,y_test=train_test_split(df['text'], df['label'], test_size=0.2, random_state=7)"
   ],
   "metadata": {
    "collapsed": false,
    "ExecuteTime": {
     "end_time": "2024-03-16T10:44:16.766532Z",
     "start_time": "2024-03-16T10:44:16.751533Z"
    }
   },
   "id": "6509508597501960",
   "execution_count": 4
  },
  {
   "cell_type": "code",
   "outputs": [],
   "source": [
    "# Initialize a TfidfVectorizer\n",
    "tfidf_vectorizer = TfidfVectorizer(stop_words='english', max_df=0.7)\n",
    "\n",
    "# Fit and transform train set, transform test set\n",
    "tfidf_train = tfidf_vectorizer.fit_transform(X_train)\n",
    "tfidf_test = tfidf_vectorizer.transform(X_test)"
   ],
   "metadata": {
    "collapsed": false,
    "ExecuteTime": {
     "end_time": "2024-03-16T11:28:13.563580Z",
     "start_time": "2024-03-16T11:28:11.889183Z"
    }
   },
   "id": "30cc757eb6167af4",
   "execution_count": 6
  },
  {
   "cell_type": "code",
   "outputs": [
    {
     "data": {
      "text/plain": "array(['00', '000', '0000', ..., 'هذا', 'والمرضى', 'ยงade'], dtype=object)"
     },
     "execution_count": 13,
     "metadata": {},
     "output_type": "execute_result"
    }
   ],
   "source": [
    "tfidf_vectorizer.get_feature_names_out()"
   ],
   "metadata": {
    "collapsed": false,
    "ExecuteTime": {
     "end_time": "2024-03-16T11:33:37.736416Z",
     "start_time": "2024-03-16T11:33:37.664418Z"
    }
   },
   "id": "a2621ec3633ae3b1",
   "execution_count": 13
  },
  {
   "cell_type": "code",
   "outputs": [
    {
     "data": {
      "text/plain": "{'head': 25318,\n 'leading': 31796,\n 'survivalist': 53256,\n 'group': 24260,\n 'shocking': 49636,\n 'allegations': 3378,\n 'united': 57236,\n 'states': 51968,\n 'government': 23825,\n 'building': 8860,\n 'secret': 48721,\n 'cavernous': 10056,\n 'underground': 56878,\n 'bunkers': 8953,\n 'earmarked': 17858,\n 'use': 57811,\n 'global': 23481,\n 'elite': 18378,\n 'case': 9851,\n 'imminent': 27283,\n 'apocalyptic': 4259,\n 'event': 19585,\n 'vast': 58158,\n 'bunker': 8952,\n 'denver': 15390,\n 'airport': 3106,\n 'ready': 44704,\n 'robert': 46849,\n 'vicino': 58447,\n 'survival': 53254,\n 'firm': 21238,\n 'vivos': 58708,\n 'claimed': 11147,\n 'officials': 38716,\n 'deep': 14890,\n 'shelters': 49467,\n 'underneath': 56902,\n 'city': 11107,\n 'past': 40371,\n 'decades': 14707,\n 'claims': 11149,\n 'sources': 51152,\n 'deduced': 14871,\n 'work': 60261,\n 'progress': 43111,\n '1983': 600,\n 'largest': 31560,\n 'space': 51198,\n '10': 113,\n '000': 1,\n 'people': 40793,\n 'members': 34776,\n 'general': 23006,\n 'population': 42170,\n 'considered': 12592,\n 'plans': 41650,\n 'plan': 41631,\n 'said': 47648,\n 'secretive': 48727,\n 'goings': 23650,\n 'source': 51148,\n 'great': 24041,\n 'deal': 14623,\n 'speculation': 51349,\n 'suspected': 53276,\n 'links': 32481,\n 'illuminati': 27182,\n 'according': 2281,\n 'fact': 20277,\n 'entrance': 18998,\n 'point': 41923,\n 'complex': 12130,\n 'connected': 12500,\n 'washington': 59213,\n 'dc': 14580,\n 'high': 25840,\n 'speed': 51364,\n 'train': 55572,\n 'believes': 6745,\n 'ask': 4919,\n 'did': 15999,\n 'russia': 47430,\n 'just': 30025,\n 'drill': 17416,\n '40': 1127,\n 'million': 35346,\n 'asked': 4924,\n 'answer': 4057,\n 'suspect': 53275,\n 'threat': 54799,\n 'come': 11894,\n 'nuclear': 38251,\n 'war': 59125,\n 'arrival': 4750,\n 'planet': 41636,\n 'known': 30939,\n 'nibiru': 37636,\n 'arrive': 4752,\n 'september': 49012,\n '2017': 691,\n 'niribu': 37787,\n 'comes': 11906,\n 'close': 11424,\n 'earth': 17879,\n 'compromise': 12190,\n 'integrity': 28434,\n 'naturally': 37142,\n 'occurring': 38612,\n 'magnetic': 33419,\n 'shield': 49527,\n 'leaving': 31861,\n 'surface': 53181,\n 'highly': 25850,\n 'vulnerable': 58899,\n 'showers': 49754,\n 'debris': 14686,\n 'toxic': 55472,\n 'radiation': 44208,\n 'rays': 44639,\n 'questioned': 44015,\n 'forewarned': 21867,\n 'public': 43528,\n 'world': 60291,\n 'replied': 45892,\n 'going': 23649,\n 'tell': 54235,\n 'life': 32296,\n 'threatening': 54802,\n 'unless': 57289,\n 'solution': 50983,\n 'cause': 10030,\n 'social': 50852,\n 'meltdown': 34766,\n 'recognized': 44980,\n 'warning': 59170,\n 'bound': 8147,\n 'attract': 5283,\n 'condemnation': 12300,\n 'ridicule': 46594,\n 'deterred': 15752,\n 'think': 54706,\n 'crazy': 13544,\n 'ones': 38909,\n 'spent': 51389,\n 'time': 55006,\n 'doing': 16993,\n 'research': 46027,\n 'easy': 17916,\n 'say': 48095,\n 'sky': 50343,\n 'blue': 7682,\n 'color': 11820,\n 'read': 44691,\n 'sit': 50192,\n 'playing': 41708,\n 'iphone': 28891,\n 'watching': 59249,\n 'television': 54232,\n 'probably': 42972,\n 'walking': 59042,\n 'zombie': 61154,\n 'demean': 15211,\n 'taken': 53749,\n 'deeply': 14900,\n 'stuff': 52607,\n 'evidence': 19620,\n 'disclose': 16314,\n 'tv': 56381,\n 'arnaldo': 4694,\n 'rodgers': 46911,\n 'trained': 55573,\n 'educated': 18075,\n 'psychologist': 43496,\n 'worked': 60265,\n 'community': 12039,\n 'organizer': 39161,\n 'activist': 2442,\n 'spirit': 51452,\n 'thank': 54526,\n 'veterans': 58388,\n 'annual': 4016,\n 'day': 14556,\n 'parade': 40103,\n 'november': 38176,\n '2016': 684,\n 'spiritaero': 51453,\n 'com': 11862,\n 'aerosystems': 2780,\n 'proud': 43379,\n 'sponsor': 51526,\n 'scheduled': 48242,\n 'saturday': 48012,\n 'nov': 38168,\n 'downtown': 17276,\n 'wichita': 59783,\n 'employees': 18618,\n 'families': 20440,\n 'appreciation': 4388,\n 'support': 53139,\n 'men': 34810,\n 'women': 60178,\n 'served': 49077,\n 'protected': 43330,\n 'freedom': 22191,\n 'globe': 23495,\n '11': 173,\n 'begin': 6650,\n 'near': 37245,\n 'th': 54512,\n 'main': 33500,\n 'street': 52480,\n 'conclude': 12268,\n 'celebration': 10142,\n 'remembrance': 45698,\n 'waterwalk': 59275,\n 'invited': 28837,\n 'attend': 5249,\n 'festivities': 20912,\n 'presented': 42710,\n 'partnership': 40312,\n 'usd259': 57806,\n 'jrotc': 29881,\n 'year': 60684,\n 'commemorates': 11945,\n 'national': 37100,\n 'defense': 14958,\n 'act': 2423,\n '1916': 515,\n 'article': 4799,\n 'www': 60491,\n 'related': 45574,\n 'posts': 42308,\n 'views': 58510,\n 'expressed': 20050,\n 'author': 5412,\n 'exclusively': 19783,\n 'necessarily': 37264,\n 'vnn': 58732,\n 'authors': 5432,\n 'affiliates': 2813,\n 'advertisers': 2736,\n 'sponsors': 51529,\n 'partners': 40311,\n 'technicians': 54131,\n 'today': 55170,\n 'network': 37457,\n 'assigns': 5032,\n 'notices': 38135,\n 'posted': 42283,\n 'reads': 44703,\n 'filed': 21077,\n 'follow': 21704,\n 'responses': 46159,\n 'entry': 19021,\n 'rss': 47245,\n 'leave': 31857,\n 'response': 46158,\n 'trackback': 55511,\n 'facebook': 20241,\n 'comments': 11970,\n 'logged': 32748,\n 'post': 42274,\n 'comment': 11960,\n 'login': 32758,\n 'hot': 26482,\n 'patty': 40501,\n 'sanchez': 47817,\n '51': 1298,\n 'used': 57814,\n 'eat': 17918,\n '13': 237,\n 'calories': 9369,\n 'weigh': 59456,\n '320': 985,\n 'kilograms': 30699,\n 'tried': 55921,\n 'satisfy': 48002,\n 'boyfriend': 8216,\n 'fantasies': 20474,\n 'weighed': 59457,\n 'split': 51500,\n 'feeder': 20764,\n 'constantly': 12637,\n 'encouraging': 18709,\n 'enabling': 18659,\n 'weight': 59460,\n 'gain': 22680,\n 'gone': 23698,\n '215': 751,\n 'years': 60692,\n 'constant': 12633,\n 'eating': 17923,\n 'encouragement': 18706,\n 'ex': 19679,\n 'online': 38921,\n 'fat': 20582,\n 'fetishists': 20923,\n 'having': 25245,\n 'purposefully': 43730,\n 'consumed': 12703,\n 'end': 18720,\n 'minor': 35460,\n 'miracle': 35489,\n 'position': 42247,\n 'change': 10398,\n 'lifestyle': 32316,\n 'splitting': 51502,\n 'soon': 51050,\n 'realized': 44742,\n 'isolated': 29082,\n 'size': 50229,\n 'mother': 36294,\n 'spoken': 51514,\n 'positive': 42252,\n 'effect': 18103,\n 'loss': 32905,\n 'personal': 40994,\n 'family': 20441,\n 'allowing': 3434,\n 'undertake': 56955,\n 'wide': 59794,\n 'range': 44443,\n 'everyday': 19604,\n 'tasks': 53973,\n 'previously': 42824,\n 'impossible': 27441,\n 'tremendous': 55827,\n 'dying': 17780,\n 'slow': 50538,\n 'death': 14649,\n 'feeding': 20765,\n 'relationship': 45580,\n 'squashing': 51669,\n 'benefiting': 6843,\n 'wasn': 59221,\n 'lot': 32909,\n 'break': 8385,\n 'meal': 34545,\n 'daily': 14277,\n 'broke': 8635,\n 'care': 9678,\n 'feared': 20703,\n 'thought': 54779,\n 'getting': 23203,\n 'bigger': 7154,\n 'reached': 44672,\n 'lowest': 32981,\n 'couldn': 13248,\n 'walk': 59034,\n 'bathroom': 6375,\n 'winded': 59933,\n 'worried': 60311,\n 'wouldn': 60341,\n 'kids': 30658,\n 'grand': 23920,\n 'struggles': 52579,\n 'didn': 16004,\n 'fully': 22475,\n 'single': 50124,\n 'help': 25575,\n 'cook': 12934,\n 'bathe': 6370,\n 'house': 26519,\n 'lonely': 32801,\n 'interview': 28666,\n 'sons': 51043,\n 'eats': 17925,\n 'mobile': 35794,\n 'stay': 52028,\n 'away': 5568,\n 'fast': 20570,\n 'food': 21734,\n 'vegetables': 58210,\n 'fruits': 22392,\n 'poultry': 42353,\n 'things': 54705,\n 'granted': 23961,\n 'like': 32363,\n 'paint': 39876,\n 'toenails': 55182,\n 'reach': 44670,\n 'children': 10745,\n 'changing': 10409,\n 'better': 7030,\n 'added': 2510,\n 'sizzling': 50238,\n 'feed': 20762,\n 'benjamin': 6863,\n 'netanyahu': 37440,\n 'reelection': 45210,\n 'regarded': 45364,\n 'apathy': 4238,\n 'palestinians': 39933,\n 'west': 59561,\n 'bank': 6064,\n 'welcomed': 59501,\n 'news': 37551,\n 'albeit': 3216,\n 'best': 6988,\n 'bad': 5799,\n 'options': 39078,\n 'deteriorate': 15735,\n 'worse': 60318,\n 'ahmad': 3017,\n 'declined': 14800,\n 'told': 55207,\n 'salon': 47749,\n 'customers': 14132,\n 'browsing': 8708,\n 'phone': 41247,\n 'accessories': 2237,\n 'central': 10212,\n 'ramallah': 44370,\n 'agreed': 2981,\n 'doesn': 16967,\n 'matter': 34268,\n 'knesset': 30893,\n 'settlement': 49125,\n 'expansion': 19911,\n 'military': 35300,\n 'crackdowns': 13462,\n 'wars': 59193,\n 'place': 41601,\n 'watch': 59239,\n 'left': 31907,\n 'right': 46622,\n 'realistic': 44734,\n 'statehood': 51959,\n 'experience': 19960,\n 'clear': 11275,\n 'assassination': 4980,\n 'rabin': 44160,\n 'israeli': 29094,\n 'politics': 42020,\n 'brought': 8685,\n 'good': 23710,\n 'huneida': 26743,\n 'ghanem': 23225,\n 'director': 16200,\n 'palestinian': 39932,\n 'forum': 21973,\n 'studies': 52599,\n 'madar': 33336,\n 'election': 18269,\n 'understand': 56944,\n 'hope': 26370,\n 'herzog': 25725,\n 'livni': 32623,\n 'potential': 42334,\n 'wish': 60041,\n 'makes': 33553,\n 'win': 59926,\n 'disappointing': 16251,\n 'trust': 56151,\n 'pair': 39884,\n 'center': 10199,\n 'zionist': 61116,\n 'union': 57216,\n 'final': 21124,\n 'hours': 26518,\n 'billed': 7200,\n 'likely': 32370,\n 'winner': 59986,\n 'misplaced': 35632,\n 'sense': 48961,\n 'echoed': 17961,\n 'dismiss': 16517,\n 'opposition': 39037,\n 'laugh': 31652,\n 'refusing': 45344,\n 'refer': 45243,\n 'wing': 59960,\n 'meaningful': 34557,\n 'lieberman': 32284,\n 'parties': 40297,\n 'prime': 42878,\n 'minister': 35445,\n 'won': 60183,\n 'make': 33548,\n 'difference': 16032,\n 'strategy': 52445,\n 'fulfill': 22465,\n 'ideology': 27051,\n 'bassam': 6340,\n 'shweiki': 49859,\n 'literature': 32562,\n 'enthusiast': 18975,\n 'speaks': 51285,\n 'english': 18836,\n 'london': 32792,\n 'twang': 56388,\n 'despite': 15655,\n 'lived': 32599,\n 'hebron': 25453,\n 'carved': 9833,\n 'enclaves': 18689,\n 'closures': 11441,\n 'barely': 6158,\n 'featured': 20726,\n 'campaigns': 9421,\n 'aside': 4910,\n 'pro': 42963,\n 'visit': 58658,\n 'winger': 59962,\n 'avigdor': 5523,\n 'says': 48104,\n 'israel': 29093,\n 'homeland': 26222,\n 'jewish': 29608,\n 'god': 23596,\n 'promised': 43172,\n 'nations': 37118,\n 'land': 31441,\n 'continued': 12792,\n 'hold': 26146,\n 'peace': 40597,\n 'process': 42996,\n 'announcing': 4009,\n 'continuing': 12794,\n 'establish': 19384,\n 'settlements': 49126,\n 'demolishing': 15257,\n 'homes': 26238,\n 'confiscating': 12403,\n 'lands': 31473,\n 'deceiving': 14735,\n 'saying': 48103,\n 'negotiations': 37330,\n 'view': 58500,\n 'inevitable': 27906,\n 'zionism': 61115,\n 'shared': 49356,\n 'reason': 44794,\n 'pleased': 41735,\n 'unlike': 57293,\n 'leaders': 31793,\n 'believe': 6741,\n 'obscure': 38515,\n 'policies': 41987,\n 'occupation': 38598,\n 'laid': 31369,\n 'bare': 6155,\n 'pressure': 42753,\n 'increase': 27692,\n 'personally': 41002,\n 'glad': 23402,\n 'proves': 43393,\n 'want': 59115,\n 'amer': 3639,\n 'khader': 30551,\n 'postgraduate': 42290,\n 'nutritionist': 38347,\n 'speech': 51357,\n 'clearly': 11284,\n 'stating': 51983,\n 'wins': 59997,\n 'state': 51955,\n 'light': 32335,\n 'jerusalem': 29572,\n 'forever': 21866,\n 'capital': 9576,\n 'continuation': 12790,\n 'illegal': 27157,\n 'worst': 60332,\n 'happen': 24956,\n 'houses': 26532,\n 'demolished': 15255,\n 'east': 17903,\n 'gaza': 22935,\n 'destroyed': 15686,\n 'let': 32100,\n 'isolation': 29084,\n 'racist': 44180,\n 'discriminatory': 16381,\n 'apartheid': 4233,\n 'bleak': 7512,\n 'irony': 28950,\n 'long': 32804,\n 'able': 2055,\n 'vote': 58826,\n 'citizens': 11101,\n '20': 654,\n 'percent': 40815,\n 'achievements': 2346,\n 'transpired': 55713,\n 'partly': 40307,\n 'country': 13332,\n 'shooting': 49662,\n 'foot': 21754,\n 'lawmakers': 31717,\n 'raised': 44323,\n 'electoral': 18278,\n 'threshold': 54810,\n 'supported': 53141,\n 'wingers': 59963,\n 'hoped': 26371,\n 'push': 43751,\n 'small': 50580,\n 'arab': 4468,\n 'representation': 45915,\n 'altogether': 3526,\n 'instead': 28332,\n 'banded': 6031,\n 'create': 13557,\n 'joint': 29762,\n 'list': 32530,\n 'broad': 8597,\n 'coalition': 11544,\n '14': 260,\n 'seats': 48696,\n 'israelis': 29096,\n 'biggest': 7155,\n 'power': 42380,\n 'bemoaned': 6806,\n 'rightward': 46636,\n 'tilt': 54997,\n 'celebrated': 10139,\n 'new': 37525,\n 'era': 19180,\n 'political': 42004,\n 'involvement': 28853,\n 'night': 37707,\n 'came': 9391,\n 'resistance': 46098,\n 'aims': 3065,\n '18': 399,\n 'old': 38807,\n 'razi': 44645,\n 'misherqui': 35592,\n 'wearing': 59366,\n 'party': 40320,\n 'shirt': 49600,\n 'draped': 17341,\n 'flag': 21329,\n 'results': 46216,\n 'unity': 57245,\n 'really': 44749,\n 'important': 27424,\n 'challenge': 10359,\n 'called': 9346,\n 'victory': 58470,\n 'surprise': 53217,\n 'story': 52371,\n 'bothered': 8115,\n 'mean': 34549,\n 'game': 22759,\n 'changer': 10402,\n 'believing': 6747,\n 'activity': 2446,\n 'doomed': 17126,\n 'fail': 20324,\n 'boycott': 8209,\n 'elections': 18274,\n 'ardent': 4560,\n 'supporters': 53143,\n 'measured': 34574,\n 'optimism': 39065,\n 'pledged': 41749,\n 'consensus': 12557,\n 'mk': 35763,\n 'tibi': 54917,\n 'result': 46212,\n 'extreme': 20142,\n 'got': 23795,\n 'upper': 57697,\n 'hand': 24868,\n 'haven': 25237,\n 'nearly': 37251,\n 'decade': 14703,\n 'changes': 10404,\n 'guarded': 24358,\n 'bearing': 6511,\n 'bitter': 7371,\n 'fruit': 22386,\n 'mood': 36125,\n 'characterized': 10450,\n 'frustration': 22401,\n 'extremism': 20145,\n 'sure': 53174,\n 'thing': 54704,\n 'path': 40420,\n 'tough': 55422,\n 'don': 17064,\n 'feel': 20769,\n 'pay': 40545,\n 'price': 42839,\n 've': 58188,\n 'narrative': 37033,\n 'eretz': 19211,\n 'scene': 48209,\n 'unacceptable': 56619,\n 'talk': 53786,\n 'hegemonic': 25499,\n 'discourse': 16355,\n 'talking': 53792,\n 'buses': 9062,\n 'shabbat': 49208,\n 'fascist': 20560,\n 'enterprise': 18955,\n 'failed': 20325,\n 'international': 28581,\n 'grown': 24282,\n 'older': 38809,\n 'violence': 58605,\n 'intifada': 28681,\n 'peaceful': 40599,\n 'led': 31882,\n 'strong': 52557,\n 'feeling': 20770,\n 'outside': 39460,\n 'looks': 32832,\n 'real': 44719,\n 'action': 2427,\n 'stress': 52493,\n 'word': 60248,\n 'blessing': 7536,\n 'disguise': 16437,\n 'economy': 17993,\n 'relations': 45579,\n 'way': 59305,\n 'weaker': 59338,\n 'screwing': 48552,\n 'happening': 24958,\n 'till': 54993,\n 'screwed': 48550,\n 'john': 29734,\n 'kasich': 30281,\n 'killing': 30690,\n 'iowa': 28884,\n 'voters': 58834,\n 'bantered': 6097,\n 'larry': 31568,\n 'coralville': 13016,\n 'voter': 58831,\n 'university': 57261,\n 'hoops': 26356,\n 'team': 54087,\n 'advantage': 2710,\n 'ohio': 38764,\n 'basketball': 6331,\n 'signature': 49974,\n 'home': 26215,\n 'republican': 45962,\n 'presidential': 42733,\n 'candidate': 9477,\n 'supports': 53146,\n 'renewable': 45774,\n 'fuel': 22441,\n 'standard': 51854,\n 'requirement': 45996,\n 'gas': 22856,\n 'contain': 12722,\n 'certain': 10259,\n 'ethanol': 19441,\n 'corn': 13053,\n 'existing': 19877,\n 'law': 31705,\n 'calling': 9354,\n 'johnny': 29744,\n 'll': 32633,\n 'wave': 59290,\n 'ya': 60593,\n '12': 206,\n 'telephone': 54213,\n 'town': 55462,\n 'hall': 24761,\n 'meeting': 34675,\n 'thursday': 54893,\n 'early': 17856,\n 'voting': 58842,\n 'hampshire': 24853,\n 'polling': 42042,\n 'ahead': 3010,\n 'feb': 20730,\n 'caucuses': 10015,\n 'putting': 43785,\n 'ninth': 37776,\n 'realclearpolitics': 44721,\n 'rolling': 46963,\n 'average': 5506,\n 'recent': 44916,\n 'polls': 42045,\n 'possible': 42270,\n 'finish': 21174,\n 'faded': 20306,\n 'candidates': 9478,\n 'swarmed': 53361,\n 'month': 36104,\n 'appeared': 4316,\n 'twice': 56410,\n 'jan': 29356,\n 'des': 15562,\n 'moines': 35907,\n 'council': 13254,\n 'bluffs': 7697,\n 'visits': 58665,\n 'week': 59427,\n 'quad': 43900,\n 'cities': 11095,\n 'cedar': 10121,\n 'rapids': 44491,\n 'caucus': 10013,\n 'taking': 53762,\n 'person': 40989,\n 'primary': 42873,\n 'tight': 54965,\n 'battle': 6399,\n 'texas': 54481,\n 'sen': 48926,\n 'ted': 54147,\n 'cruz': 13883,\n 'florida': 21551,\n 'marco': 33889,\n 'rubio': 47291,\n 'second': 48712,\n 'finishing': 21179,\n 'poll': 42031,\n 'donald': 17067,\n 'trump': 56102,\n 'hopes': 26379,\n 'propel': 43228,\n 'prominence': 43165,\n 'establishment': 19388,\n 'republicans': 45964,\n 'leery': 31899,\n 'topping': 55317,\n 'surveys': 53250,\n 'approach': 4402,\n 'advisers': 2747,\n 'roots': 47042,\n 'reality': 44738,\n 'contests': 12774,\n 'focusing': 21661,\n 'shot': 49712,\n 'seven': 49139,\n 'contested': 12772,\n 'gop': 23746,\n '1976': 592,\n 'kicked': 30635,\n 'nation': 37099,\n 'wednesday': 59419,\n 'campaign': 9413,\n 'bus': 9056,\n 'tempting': 54281,\n 'management': 33687,\n 'folks': 21699,\n 'tele': 54193,\n 'halls': 24775,\n 'held': 25537,\n 'helped': 25576,\n 'dropped': 17464,\n 'conversation': 12894,\n '375': 1071,\n 'participants': 40278,\n 'data': 14491,\n 'vendor': 58253,\n 'participant': 40277,\n 'whopping': 59763,\n '32': 984,\n 'minutes': 35480,\n 'hour': 26515,\n '15': 288,\n 'previous': 42823,\n 'calls': 9360,\n 'iowans': 28886,\n 'interested': 28522,\n 'appreciate': 4385,\n 'boost': 8018,\n 'votes': 58835,\n 'caucusgoers': 10017,\n 'worry': 60314,\n 'throwing': 54845,\n 'low': 32968,\n 'job': 29703,\n 'taste': 53977,\n 'minus': 35474,\n 'teal': 54086,\n 'puffy': 43575,\n 'coat': 11565,\n 'winter': 60002,\n 'debt': 14687,\n 'ticker': 54925,\n 'decorates': 14834,\n 'meetings': 34676,\n 'carting': 9818,\n 'snow': 50786,\n 'folksy': 21701,\n 'explanations': 19991,\n 'complicated': 12139,\n 'plus': 41838,\n 'exhortations': 19861,\n 'seek': 48783,\n 'purpose': 43728,\n 'jokes': 29769,\n 'fun': 22493,\n 'audience': 5326,\n 'drops': 17469,\n 'names': 36969,\n 'friends': 22303,\n 'mccain': 34399,\n 'primaries': 42871,\n 'leonardo': 32060,\n 'dicaprio': 15966,\n 'autograph': 5447,\n 'daughters': 14515,\n 'restaurant': 46174,\n 'interrupts': 28632,\n 'questioners': 44017,\n 'finishes': 21178,\n 'queries': 44006,\n 'mind': 35386,\n 'works': 60282,\n 'know': 30927,\n 'trigger': 55927,\n 'wait': 58989,\n 'trying': 56185,\n 'cut': 14137,\n 'anybody': 4210,\n 'certainly': 10260,\n 'disrespect': 16637,\n 'kind': 30723,\n 'bursting': 9048,\n 'rushad': 47416,\n 'thomas': 54744,\n 'walked': 59036,\n 'joke': 29766,\n 'monday': 35992,\n 'lebanon': 31864,\n 'immigration': 27280,\n 'heavy': 25445,\n '26': 855,\n 'senior': 48946,\n 'launched': 31663,\n 'question': 44013,\n 'travels': 55766,\n 'wife': 59821,\n 'karen': 30236,\n '16': 330,\n 'twin': 56413,\n 'reese': 45233,\n 'emma': 18562,\n 'wants': 59119,\n 'careful': 9687,\n 'exposure': 20041,\n 'twins': 56418,\n 'receive': 44909,\n 'working': 60271,\n 'manager': 33689,\n 'beth': 7010,\n 'hansen': 24947,\n 'gubernatorial': 24373,\n 'chief': 10723,\n 'staff': 51772,\n 'traveling': 55761,\n 'fraternity': 22141,\n 'situation': 50213,\n 'bring': 8545,\n 'guys': 24548,\n 'ideal': 27016,\n 'couple': 13342,\n 'seriously': 49060,\n 'joined': 29758,\n 'tuesday': 56238,\n 'loving': 32967,\n 'caring': 9714,\n 'experienced': 19961,\n 'comfortable': 11914,\n 'teased': 54110,\n 'wanting': 59117,\n 'college': 11761,\n 'art': 4781,\n 'school': 48325,\n 'chuckles': 10950,\n 'forth': 21954,\n 'finally': 21134,\n 'hug': 26644,\n 'making': 33562,\n 'sorry': 51101,\n 'need': 37281,\n 'finest': 21159,\n 'parenting': 40188,\n 'moment': 35961,\n 'parents': 40189,\n 'actually': 2458,\n 'apologize': 4273,\n 'trail': 55562,\n 'lights': 32348,\n 'sees': 48799,\n 'child': 10732,\n 'tank': 53862,\n 'engine': 18825,\n 'book': 7974,\n 'toddlers': 55175,\n 'middle': 35193,\n 'asking': 4929,\n 'noise': 37874,\n 'cow': 13409,\n 'goat': 23580,\n 'shouted': 49728,\n 'cite': 11090,\n ...}"
     },
     "execution_count": 11,
     "metadata": {},
     "output_type": "execute_result"
    }
   ],
   "source": [
    "tfidf_vectorizer.vocabulary_"
   ],
   "metadata": {
    "collapsed": false,
    "ExecuteTime": {
     "end_time": "2024-03-16T11:31:42.923707Z",
     "start_time": "2024-03-16T11:31:42.899708Z"
    }
   },
   "id": "ed67804f59edc21c",
   "execution_count": 11
  },
  {
   "cell_type": "code",
   "outputs": [
    {
     "name": "stdout",
     "output_type": "stream",
     "text": [
      "[[0.         0.02687048 0.         ... 0.         0.         0.        ]\n",
      " [0.         0.         0.         ... 0.         0.         0.        ]\n",
      " [0.         0.08568744 0.         ... 0.         0.         0.        ]\n",
      " ...\n",
      " [0.         0.         0.         ... 0.         0.         0.        ]\n",
      " [0.         0.01143476 0.         ... 0.         0.         0.        ]\n",
      " [0.         0.         0.         ... 0.         0.         0.        ]]\n"
     ]
    }
   ],
   "source": [
    " print(tfidf_train.toarray())"
   ],
   "metadata": {
    "collapsed": false,
    "ExecuteTime": {
     "end_time": "2024-03-16T11:34:57.732878Z",
     "start_time": "2024-03-16T11:34:57.205611Z"
    }
   },
   "id": "1bc65fba4c23d4d2",
   "execution_count": 14
  },
  {
   "cell_type": "markdown",
   "source": [
    "# 训练"
   ],
   "metadata": {
    "collapsed": false
   },
   "id": "441a0e13ac900b4e"
  },
  {
   "cell_type": "code",
   "outputs": [
    {
     "name": "stdout",
     "output_type": "stream",
     "text": [
      "Accuracy: 92.58%\n"
     ]
    }
   ],
   "source": [
    "#DataFlair - Initialize a PassiveAggressiveClassifier\n",
    "pac=PassiveAggressiveClassifier(max_iter=50)\n",
    "pac.fit(tfidf_train,y_train)\n",
    "\n",
    "#DataFlair - Predict on the test set and calculate accuracy\n",
    "y_pred=pac.predict(tfidf_test)\n",
    "score=accuracy_score(y_test,y_pred)\n",
    "print(f'Accuracy: {round(score*100,2)}%')"
   ],
   "metadata": {
    "collapsed": false,
    "ExecuteTime": {
     "end_time": "2024-03-16T11:37:53.732294Z",
     "start_time": "2024-03-16T11:37:53.680295Z"
    }
   },
   "id": "f4f1aec5d869b08e",
   "execution_count": 17
  },
  {
   "cell_type": "code",
   "outputs": [
    {
     "data": {
      "text/plain": "array([[590,  48],\n       [ 46, 583]], dtype=int64)"
     },
     "execution_count": 18,
     "metadata": {},
     "output_type": "execute_result"
    }
   ],
   "source": [
    "confusion_matrix(y_test,y_pred, labels=['FAKE','REAL'])"
   ],
   "metadata": {
    "collapsed": false,
    "ExecuteTime": {
     "end_time": "2024-03-16T11:44:00.422032Z",
     "start_time": "2024-03-16T11:44:00.411520Z"
    }
   },
   "id": "271c5589d75e8f85",
   "execution_count": 18
  },
  {
   "cell_type": "code",
   "outputs": [],
   "source": [],
   "metadata": {
    "collapsed": false
   },
   "id": "b53d956aab70fb4b"
  }
 ],
 "metadata": {
  "kernelspec": {
   "display_name": "Python 3",
   "language": "python",
   "name": "python3"
  },
  "language_info": {
   "codemirror_mode": {
    "name": "ipython",
    "version": 2
   },
   "file_extension": ".py",
   "mimetype": "text/x-python",
   "name": "python",
   "nbconvert_exporter": "python",
   "pygments_lexer": "ipython2",
   "version": "2.7.6"
  }
 },
 "nbformat": 4,
 "nbformat_minor": 5
}
